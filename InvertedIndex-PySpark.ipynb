{
 "cells": [
  {
   "cell_type": "code",
   "execution_count": 9,
   "metadata": {},
   "outputs": [
    {
     "name": "stdout",
     "output_type": "stream",
     "text": [
      "Defaulting to user installation because normal site-packages is not writeable\n",
      "Requirement already satisfied: pyspark in /home/hadoop/.local/lib/python3.7/site-packages (3.3.1)\n",
      "Requirement already satisfied: py4j==0.10.9.5 in /home/hadoop/.local/lib/python3.7/site-packages (from pyspark) (0.10.9.5)\n"
     ]
    }
   ],
   "source": [
    "!pip3 install pyspark\n",
    "\n"
   ]
  },
  {
   "cell_type": "code",
   "execution_count": 1,
   "metadata": {},
   "outputs": [],
   "source": [
    "from pyspark.context import SparkContext"
   ]
  },
  {
   "cell_type": "code",
   "execution_count": 2,
   "metadata": {},
   "outputs": [
    {
     "name": "stderr",
     "output_type": "stream",
     "text": [
      "Setting default log level to \"WARN\".\n",
      "To adjust logging level use sc.setLogLevel(newLevel). For SparkR, use setLogLevel(newLevel).\n"
     ]
    },
    {
     "name": "stdout",
     "output_type": "stream",
     "text": [
      "22/12/17 06:05:21 WARN NativeCodeLoader: Unable to load native-hadoop library for your platform... using builtin-java classes where applicable\n"
     ]
    }
   ],
   "source": [
    "sc = SparkContext('local', 'test')"
   ]
  },
  {
   "cell_type": "code",
   "execution_count": 3,
   "metadata": {},
   "outputs": [
    {
     "data": {
      "text/html": [
       "\n",
       "        <div>\n",
       "            <p><b>SparkContext</b></p>\n",
       "\n",
       "            <p><a href=\"http://ip-172-31-91-120.ec2.internal:4040\">Spark UI</a></p>\n",
       "\n",
       "            <dl>\n",
       "              <dt>Version</dt>\n",
       "                <dd><code>v3.3.1</code></dd>\n",
       "              <dt>Master</dt>\n",
       "                <dd><code>local</code></dd>\n",
       "              <dt>AppName</dt>\n",
       "                <dd><code>test</code></dd>\n",
       "            </dl>\n",
       "        </div>\n",
       "        "
      ],
      "text/plain": [
       "<SparkContext master=local appName=test>"
      ]
     },
     "execution_count": 3,
     "metadata": {},
     "output_type": "execute_result"
    }
   ],
   "source": [
    "sc"
   ]
  },
  {
   "cell_type": "code",
   "execution_count": 4,
   "metadata": {},
   "outputs": [],
   "source": [
    "from operator import add"
   ]
  },
  {
   "cell_type": "code",
   "execution_count": 6,
   "metadata": {},
   "outputs": [],
   "source": [
    "# Reading file into RDD\n",
    "d1 = sc.textFile(\"./d1.txt\")"
   ]
  },
  {
   "cell_type": "code",
   "execution_count": 7,
   "metadata": {},
   "outputs": [],
   "source": [
    "d1_freq = d1.map(lambda x: x.lower()).flatMap(lambda x: x.split(' ')).map(lambda x:(x,1)) \\\n",
    "             .reduceByKey(lambda x, y: x + y).map(lambda x:(x[0],'d1',x[1])) "
   ]
  },
  {
   "cell_type": "code",
   "execution_count": 8,
   "metadata": {},
   "outputs": [
    {
     "name": "stderr",
     "output_type": "stream",
     "text": [
      "                                                                                \r"
     ]
    },
    {
     "data": {
      "text/plain": [
       "[('china', 'd1', 5), ('officially', 'd1', 1), ('the', 'd1', 7)]"
      ]
     },
     "execution_count": 8,
     "metadata": {},
     "output_type": "execute_result"
    }
   ],
   "source": [
    "d1_freq.take(3)"
   ]
  },
  {
   "cell_type": "code",
   "execution_count": 10,
   "metadata": {},
   "outputs": [],
   "source": [
    "# Reading file into RDD\n",
    "d2 = sc.textFile(\"./d2.txt\")"
   ]
  },
  {
   "cell_type": "code",
   "execution_count": 11,
   "metadata": {},
   "outputs": [],
   "source": [
    "d2_freq = d2.map(lambda x: x.lower()).flatMap(lambda x: x.split(' ')).map(lambda x:(x,1)) \\\n",
    "             .reduceByKey(lambda x, y: x + y).map(lambda x:(x[0],'d2',x[1])) "
   ]
  },
  {
   "cell_type": "code",
   "execution_count": 12,
   "metadata": {},
   "outputs": [
    {
     "data": {
      "text/plain": [
       "[('india', 'd2', 4),\n",
       " ('officially', 'd2', 1),\n",
       " ('the', 'd2', 17),\n",
       " ('republic', 'd2', 1),\n",
       " ('of', 'd2', 3)]"
      ]
     },
     "execution_count": 12,
     "metadata": {},
     "output_type": "execute_result"
    }
   ],
   "source": [
    "d2_freq.take(5)"
   ]
  },
  {
   "cell_type": "code",
   "execution_count": 13,
   "metadata": {},
   "outputs": [],
   "source": [
    "# Reading file into RDD\n",
    "d3 = sc.textFile(\"./d3.txt\")"
   ]
  },
  {
   "cell_type": "code",
   "execution_count": 14,
   "metadata": {},
   "outputs": [],
   "source": [
    "d3_freq = d3.map(lambda x: x.lower()).flatMap(lambda x: x.split(' ')).map(lambda x:(x,1)) \\\n",
    "             .reduceByKey(lambda x, y: x + y).map(lambda x:(x[0],'d3',x[1])) "
   ]
  },
  {
   "cell_type": "code",
   "execution_count": 15,
   "metadata": {},
   "outputs": [
    {
     "data": {
      "text/plain": [
       "[('relations', 'd3', 2), ('between', 'd3', 2), ('india', 'd3', 7)]"
      ]
     },
     "execution_count": 15,
     "metadata": {},
     "output_type": "execute_result"
    }
   ],
   "source": [
    "d3_freq.take(3)"
   ]
  },
  {
   "cell_type": "code",
   "execution_count": 16,
   "metadata": {},
   "outputs": [],
   "source": [
    "# Reading file into RDD\n",
    "d4 = sc.textFile(\"./d4.txt\")"
   ]
  },
  {
   "cell_type": "code",
   "execution_count": 17,
   "metadata": {},
   "outputs": [],
   "source": [
    "d4_freq = d4.map(lambda x: x.lower()).flatMap(lambda x: x.split(' ')).map(lambda x:(x,1)) \\\n",
    "             .reduceByKey(lambda x, y: x + y).map(lambda x:(x[0],'d4',x[1]))"
   ]
  },
  {
   "cell_type": "code",
   "execution_count": 18,
   "metadata": {},
   "outputs": [
    {
     "data": {
      "text/plain": [
       "[('the', 'd4', 26), ('india', 'd4', 11), ('us', 'd4', 9)]"
      ]
     },
     "execution_count": 18,
     "metadata": {},
     "output_type": "execute_result"
    }
   ],
   "source": [
    "d4_freq.take(3)"
   ]
  },
  {
   "cell_type": "code",
   "execution_count": 19,
   "metadata": {},
   "outputs": [],
   "source": [
    "# Reading file into RDD\n",
    "d5 = sc.textFile(\"./d5.txt\")"
   ]
  },
  {
   "cell_type": "code",
   "execution_count": 20,
   "metadata": {},
   "outputs": [],
   "source": [
    "d5_freq = d5.map(lambda x: x.lower()).flatMap(lambda x: x.split(' ')).map(lambda x:(x,1)) \\\n",
    "             .reduceByKey(lambda x, y: x + y).map(lambda x:(x[0],'d5',x[1]))"
   ]
  },
  {
   "cell_type": "code",
   "execution_count": 21,
   "metadata": {},
   "outputs": [
    {
     "data": {
      "text/plain": [
       "[('russia', 'd5', 5), ('also', 'd5', 2), ('officially', 'd5', 1)]"
      ]
     },
     "execution_count": 21,
     "metadata": {},
     "output_type": "execute_result"
    }
   ],
   "source": [
    "d5_freq.take(3)"
   ]
  },
  {
   "cell_type": "code",
   "execution_count": 22,
   "metadata": {},
   "outputs": [],
   "source": [
    "# Reading file into RDD\n",
    "d6 = sc.textFile(\"./d6.txt\")"
   ]
  },
  {
   "cell_type": "code",
   "execution_count": 23,
   "metadata": {},
   "outputs": [],
   "source": [
    "d6_freq = d6.map(lambda x: x.lower()).flatMap(lambda x: x.split(' ')).map(lambda x:(x,1)) \\\n",
    "             .reduceByKey(lambda x, y: x + y).map(lambda x:(x[0],'d6',x[1]))"
   ]
  },
  {
   "cell_type": "code",
   "execution_count": 24,
   "metadata": {},
   "outputs": [
    {
     "data": {
      "text/plain": [
       "[('the', 'd6', 16), ('united', 'd6', 4), ('states', 'd6', 7)]"
      ]
     },
     "execution_count": 24,
     "metadata": {},
     "output_type": "execute_result"
    }
   ],
   "source": [
    "d6_freq.take(3)"
   ]
  },
  {
   "cell_type": "code",
   "execution_count": 25,
   "metadata": {},
   "outputs": [],
   "source": [
    "# Reading file into RDD\n",
    "d7 = sc.textFile(\"./d7.txt\")"
   ]
  },
  {
   "cell_type": "code",
   "execution_count": 26,
   "metadata": {},
   "outputs": [],
   "source": [
    "d7_freq = d7.map(lambda x: x.lower()).flatMap(lambda x: x.split(' ')).map(lambda x:(x,1)) \\\n",
    "             .reduceByKey(lambda x, y: x + y).map(lambda x:(x[0],'d7',x[1]))"
   ]
  },
  {
   "cell_type": "code",
   "execution_count": 27,
   "metadata": {},
   "outputs": [
    {
     "data": {
      "text/plain": [
       "[('russia', 'd7', 6), ('united', 'd7', 4), ('states', 'd7', 5)]"
      ]
     },
     "execution_count": 27,
     "metadata": {},
     "output_type": "execute_result"
    }
   ],
   "source": [
    "d7_freq.take(3)"
   ]
  },
  {
   "cell_type": "code",
   "execution_count": 28,
   "metadata": {},
   "outputs": [],
   "source": [
    "combined_freq = d1_freq.union(d2_freq).union(d3_freq).union(d4_freq).union(d5_freq).union(d6_freq).union(d7_freq)"
   ]
  },
  {
   "cell_type": "code",
   "execution_count": 29,
   "metadata": {},
   "outputs": [
    {
     "data": {
      "text/plain": [
       "[('china', 'd1', 5),\n",
       " ('officially', 'd1', 1),\n",
       " ('the', 'd1', 7),\n",
       " ('people', 'd1', 2),\n",
       " ('republic', 'd1', 3)]"
      ]
     },
     "execution_count": 29,
     "metadata": {},
     "output_type": "execute_result"
    }
   ],
   "source": [
    "combined_freq.take(5)"
   ]
  },
  {
   "cell_type": "code",
   "execution_count": 30,
   "metadata": {},
   "outputs": [
    {
     "data": {
      "text/plain": [
       "[('china', [('d1', 5)]), ('officially', [('d1', 1)]), ('the', [('d1', 7)])]"
      ]
     },
     "execution_count": 30,
     "metadata": {},
     "output_type": "execute_result"
    }
   ],
   "source": [
    "inverted_index = combined_freq.map(lambda x: (x[0],[(x[1],x[2])]))\n",
    "inverted_index.take(3)"
   ]
  },
  {
   "cell_type": "code",
   "execution_count": 31,
   "metadata": {},
   "outputs": [
    {
     "data": {
      "text/plain": [
       "[('', [('d3', 1)]),\n",
       " ('a',\n",
       "  [('d1', 4),\n",
       "   ('d2', 2),\n",
       "   ('d3', 5),\n",
       "   ('d4', 5),\n",
       "   ('d5', 3),\n",
       "   ('d6', 3),\n",
       "   ('d7', 6)]),\n",
       " ('about', [('d4', 1)])]"
      ]
     },
     "execution_count": 31,
     "metadata": {},
     "output_type": "execute_result"
    }
   ],
   "source": [
    "inverted_index_red_sorted = inverted_index.sortBy(lambda x:(x[1])).reduceByKey(add).sortByKey(ascending=True)\n",
    "inverted_index_red_sorted.take(3)"
   ]
  },
  {
   "cell_type": "code",
   "execution_count": 32,
   "metadata": {},
   "outputs": [],
   "source": [
    "inverted_index_final =inverted_index_red_sorted.map(lambda x: x[0] + '#' + ';'.join(['%s:%d' % (i[0], i[1]) for i in x[1]]))"
   ]
  },
  {
   "cell_type": "code",
   "execution_count": 33,
   "metadata": {},
   "outputs": [
    {
     "data": {
      "text/plain": [
       "['#d3:1',\n",
       " 'a#d1:4;d2:2;d3:5;d4:5;d5:3;d6:3;d7:6',\n",
       " 'about#d4:1',\n",
       " 'across#d5:2',\n",
       " 'actors#d4:1',\n",
       " 'addition#d2:1',\n",
       " 'administrative#d1:1',\n",
       " 'affect#d4:1',\n",
       " 'affects#d4:1',\n",
       " 'afghanistan#d4:1',\n",
       " 'after#d3:2;d7:1',\n",
       " 'agenda#d7:1',\n",
       " 'agree#d7:1',\n",
       " 'air#d7:1',\n",
       " 'aircraft#d7:1',\n",
       " 'airlines#d7:1',\n",
       " 'alaska#d5:1;d6:1',\n",
       " 'all#d3:1',\n",
       " 'also#d1:1;d4:1;d5:2;d6:2',\n",
       " 'although#d4:2',\n",
       " 'america#d4:1;d6:4;d7:1',\n",
       " 'an#d3:2;d4:1;d6:1;d7:1',\n",
       " 'and#d1:3;d2:7;d3:13;d4:12;d5:6;d6:11;d7:8',\n",
       " 'andaman#d2:1',\n",
       " 'announced#d7:1',\n",
       " 'anti#d7:1',\n",
       " 'any#d4:1',\n",
       " 'arabian#d2:1',\n",
       " 'archipelago#d6:1',\n",
       " 'arctic#d5:1',\n",
       " 'are#d3:1;d4:3;d6:1',\n",
       " 'area#d2:1;d5:1;d6:1;d7:1',\n",
       " 'armed#d3:1',\n",
       " 'arms#d7:1',\n",
       " 'as#d1:1;d3:2;d4:3;d5:1;d6:1;d7:3',\n",
       " 'asia#d1:1;d2:1;d4:1;d5:1',\n",
       " 'asian#d3:1;d4:2',\n",
       " 'at#d4:2',\n",
       " 'attempt#d4:2',\n",
       " 'attempted#d7:1',\n",
       " 'attracted#d7:1',\n",
       " 'autonomous#d1:1',\n",
       " 'azerbaijan#d5:1',\n",
       " 'back#d7:1',\n",
       " 'backyard#d4:1',\n",
       " 'bangladesh#d2:1;d3:2',\n",
       " 'bay#d2:1',\n",
       " 'be#d4:1',\n",
       " 'became#d7:2',\n",
       " 'because#d4:1',\n",
       " 'been#d3:3;d7:1',\n",
       " 'befriend#d4:1',\n",
       " 'beijing#d1:2',\n",
       " 'being#d7:1',\n",
       " 'belarus#d5:1',\n",
       " 'benevolent#d7:1',\n",
       " 'bengal#d2:1',\n",
       " 'bering#d5:1',\n",
       " 'between#d3:2;d4:3;d6:1;d7:6',\n",
       " 'bhutan#d2:1',\n",
       " 'bilateral#d7:2',\n",
       " 'border#d2:1;d4:1;d7:1',\n",
       " 'borders#d2:1;d5:2',\n",
       " 'both#d4:2',\n",
       " 'bounded#d2:1',\n",
       " 'bout#d7:1',\n",
       " 'bring#d7:1',\n",
       " 'british#d3:3',\n",
       " 'brought#d7:1',\n",
       " 'burma#d2:1',\n",
       " 'but#d3:1;d4:1',\n",
       " 'by#d1:2;d2:2;d3:3;d4:1;d5:1;d6:2;d7:4',\n",
       " 'canada#d5:1;d6:1',\n",
       " 'capital#d1:1',\n",
       " 'caribbean#d6:1',\n",
       " 'caused#d4:1',\n",
       " 'central#d6:1',\n",
       " 'centre#d3:1',\n",
       " 'china#d1:5;d2:1;d4:11;d5:1',\n",
       " 'chinese#d4:1',\n",
       " 'chongqing#d1:1',\n",
       " 'city#d1:1',\n",
       " 'civilian#d4:1',\n",
       " 'claim#d1:1',\n",
       " 'claims#d1:1',\n",
       " 'climate#d6:1',\n",
       " 'closeness#d4:1',\n",
       " 'combating#d7:1',\n",
       " 'commonly#d6:1',\n",
       " 'communist#d1:1',\n",
       " 'complex#d1:1;d4:2',\n",
       " 'concern#d4:3',\n",
       " 'conflict#d4:3',\n",
       " 'conflicting#d7:1',\n",
       " 'conflicts#d3:2',\n",
       " 'confront#d7:1',\n",
       " 'consequently#d3:1',\n",
       " 'consisting#d6:1',\n",
       " 'contain#d4:1',\n",
       " 'containment#d4:1',\n",
       " 'contiguous#d6:1',\n",
       " 'continuing#d4:1',\n",
       " 'controlled#d1:2;d7:1',\n",
       " 'controversial#d1:1',\n",
       " 'corner#d7:1',\n",
       " 'could#d7:1',\n",
       " 'countries#d3:1;d4:2;d6:1;d7:3',\n",
       " 'country#d1:1;d2:3;d5:2;d6:2',\n",
       " 'covering#d5:1',\n",
       " 'cultural#d3:1',\n",
       " 'dead#d7:1',\n",
       " 'deal#d4:1',\n",
       " 'defined#d3:1',\n",
       " 'democracy#d2:1',\n",
       " 'despite#d7:1',\n",
       " 'deteriorated#d7:2',\n",
       " 'diplomatic#d3:1',\n",
       " 'direct#d1:1',\n",
       " 'discarding#d7:1',\n",
       " 'displaced#d3:1',\n",
       " 'dispute#d3:2',\n",
       " 'disputed#d4:1',\n",
       " 'disputes#d3:1',\n",
       " 'dissolution#d3:1',\n",
       " 'district#d6:1',\n",
       " 'diverse#d6:2',\n",
       " 'dominion#d3:1',\n",
       " 'down#d7:1',\n",
       " 'driving#d7:1',\n",
       " 'due#d1:1',\n",
       " 'earth#d5:1',\n",
       " 'east#d1:1;d2:3;d3:1',\n",
       " 'eastern#d5:1;d7:2',\n",
       " 'economic#d3:1',\n",
       " 'eighth#d5:1',\n",
       " 'emerged#d3:1',\n",
       " 'encirclement#d4:1',\n",
       " 'end#d4:1;d7:1',\n",
       " 'entirety#d5:1',\n",
       " 'entity#d1:1',\n",
       " 'environments#d5:1',\n",
       " 'equipment#d7:1',\n",
       " 'establish#d7:1',\n",
       " 'established#d3:2',\n",
       " 'establishing#d4:1',\n",
       " 'estimates#d3:1',\n",
       " 'estonia#d5:1',\n",
       " 'ethnic#d3:1',\n",
       " 'ethnically#d6:1',\n",
       " 'eurasia#d5:1',\n",
       " 'europe#d5:1',\n",
       " 'even#d3:1;d4:1',\n",
       " 'exception#d3:1',\n",
       " 'exercises#d1:1',\n",
       " 'extending#d5:1',\n",
       " 'extra#d1:1',\n",
       " 'extremely#d4:1;d6:1',\n",
       " 'federal#d5:1;d6:2',\n",
       " 'federation#d5:1;d7:1',\n",
       " 'fighting#d7:1',\n",
       " 'finland#d5:1',\n",
       " 'fired#d7:1',\n",
       " 'firmly#d4:1',\n",
       " 'five#d1:1;d6:1',\n",
       " 'flight#d7:1',\n",
       " 'for#d4:4;d7:1',\n",
       " 'forces#d7:1',\n",
       " 'formed#d3:1',\n",
       " 'former#d3:1',\n",
       " 'fought#d3:2',\n",
       " 'four#d1:1;d4:1',\n",
       " 'fourth#d6:1',\n",
       " 'fraught#d4:1',\n",
       " 'from#d3:1;d6:1;d7:1',\n",
       " 'frosty#d7:1',\n",
       " 'further#d7:1',\n",
       " 'geographic#d3:1',\n",
       " 'geography#d6:1',\n",
       " 'georgia#d5:1',\n",
       " 'governed#d1:1',\n",
       " 'governing#d1:1',\n",
       " 'government#d1:1',\n",
       " 'greater#d4:1',\n",
       " 'growing#d4:1;d7:1',\n",
       " 'has#d3:1;d4:3;d6:1;d7:1',\n",
       " 'have#d3:3;d7:2',\n",
       " 'hawaii#d6:1',\n",
       " 'he#d7:1',\n",
       " 'heart#d4:2',\n",
       " 'heavy#d7:1',\n",
       " 'highlighted#d4:1',\n",
       " 'hindu#d3:1',\n",
       " 'historic#d3:1',\n",
       " 'historical#d3:1',\n",
       " 'home#d6:1',\n",
       " 'hong#d1:1',\n",
       " 'hopes#d7:1',\n",
       " 'hostility#d3:1',\n",
       " 'how#d4:1',\n",
       " 'however#d7:1',\n",
       " 'hundred#d3:1',\n",
       " 'ideologies#d7:1',\n",
       " 'immigration#d6:1',\n",
       " 'implications#d4:1',\n",
       " 'improves#d4:1',\n",
       " 'in#d1:2;d2:5;d3:2;d4:13;d5:2;d6:3;d7:3',\n",
       " 'incorporates#d5:1',\n",
       " 'increasingly#d4:1',\n",
       " 'independence#d3:2',\n",
       " 'india#d2:4;d3:7;d4:11',\n",
       " 'indian#d2:2;d4:3',\n",
       " 'indonesia#d2:1',\n",
       " 'inhabited#d5:1',\n",
       " 'interact#d4:1',\n",
       " 'interests#d4:2',\n",
       " 'into#d7:2',\n",
       " 'investment#d4:1',\n",
       " 'involved#d3:1',\n",
       " 'involvement#d4:1',\n",
       " 'involving#d4:1',\n",
       " 'is#d1:5;d2:3;d3:1;d4:8;d5:4;d6:6;d7:1',\n",
       " 'islamic#d3:1',\n",
       " 'islands#d2:1;d5:1',\n",
       " 'issues#d3:1;d4:1',\n",
       " 'it#d1:1;d2:2;d4:2;d5:2;d6:1',\n",
       " 'its#d1:2;d4:5',\n",
       " 'japan#d5:1',\n",
       " 'jurisdiction#d1:1',\n",
       " 'kashmir#d3:2;d4:1',\n",
       " 'kazakhstan#d5:1',\n",
       " 'key#d4:1',\n",
       " 'known#d5:1',\n",
       " 'kong#d1:1',\n",
       " 'korea#d5:1',\n",
       " 'land#d2:1;d5:2',\n",
       " 'landforms#d5:1',\n",
       " 'lanka#d2:1',\n",
       " 'large#d3:1;d6:1',\n",
       " 'largest#d2:1;d5:1;d6:2',\n",
       " 'latvia#d5:1',\n",
       " 'liberation#d3:1',\n",
       " 'life#d3:1',\n",
       " 'likely#d4:1',\n",
       " 'linked#d4:1',\n",
       " 'links#d3:1',\n",
       " 'lithuania#d5:1',\n",
       " 'located#d1:1',\n",
       " 'location#d4:1',\n",
       " 'long#d7:1',\n",
       " 'looking#d4:1',\n",
       " 'loss#d3:1',\n",
       " 'macau#d1:1',\n",
       " 'main#d3:1',\n",
       " 'major#d3:1;d4:1',\n",
       " 'majority#d3:2',\n",
       " 'malaysia#d7:1',\n",
       " 'maldives#d2:1',\n",
       " 'many#d1:1;d6:2',\n",
       " 'maritime#d2:1;d5:1',\n",
       " 'markedly#d4:1',\n",
       " 'matter#d4:1',\n",
       " 'may#d4:1',\n",
       " 'mean#d4:1',\n",
       " 'mexico#d6:1',\n",
       " 'mid-pacific#d6:1',\n",
       " 'military#d3:2;d4:1',\n",
       " 'million#d3:1',\n",
       " 'millions#d3:1',\n",
       " 'minimal#d4:1',\n",
       " 'minority#d3:1',\n",
       " 'missile#d7:2',\n",
       " 'mongolia#d5:1',\n",
       " 'more#d4:1;d5:1;d7:2',\n",
       " 'most#d1:1;d2:2;d5:1;d6:1',\n",
       " 'mostly#d1:1',\n",
       " 'much#d4:1;d5:1',\n",
       " 'multicultural#d6:1',\n",
       " 'municipalities#d1:1',\n",
       " 'muslim#d3:2',\n",
       " 'nation#d3:1;d5:1',\n",
       " 'national#d4:1',\n",
       " 'nations#d3:3;d6:1;d7:1',\n",
       " 'near#d7:1',\n",
       " 'nepal#d2:1',\n",
       " 'new#d3:1',\n",
       " 'nicobar#d2:1',\n",
       " 'nine#d5:1;d6:1',\n",
       " 'ninth#d5:1',\n",
       " 'north#d2:1;d5:1;d6:2',\n",
       " 'northern#d5:2',\n",
       " 'northwestern#d6:1',\n",
       " 'norway#d5:1',\n",
       " 'not#d4:1',\n",
       " 'now#d3:1',\n",
       " 'nuclear#d4:1;d7:1',\n",
       " 'number#d3:1',\n",
       " 'numerous#d3:3',\n",
       " 'obama#d7:2',\n",
       " 'ocean#d2:2',\n",
       " 'of#d1:6;d2:3;d3:13;d4:10;d5:6;d6:9;d7:5',\n",
       " 'officially#d1:1;d2:1;d5:1',\n",
       " 'often#d4:2',\n",
       " 'okhotsk#d5:1',\n",
       " 'on#d2:3;d7:1',\n",
       " 'one#d3:1;d5:1;d6:1;d7:1',\n",
       " 'ongoing#d4:1',\n",
       " 'only#d4:1',\n",
       " 'or#d4:2;d6:2',\n",
       " 'other#d4:1',\n",
       " 'over#d4:1',\n",
       " 'overshadow#d3:1',\n",
       " 'overt#d4:2',\n",
       " 'overwhelming#d3:1',\n",
       " 'pacific#d6:1',\n",
       " 'pakistan#d2:1;d3:6;d4:9',\n",
       " 'palpable#d7:1',\n",
       " 'part#d6:1',\n",
       " 'partition#d3:3',\n",
       " 'partnership#d7:1',\n",
       " 'party#d1:2',\n",
       " 'past#d7:1',\n",
       " 'peaceful#d4:1',\n",
       " 'people#d1:2;d3:1',\n",
       " 'plagued#d3:1',\n",
       " 'point#d3:1;d4:1',\n",
       " 'poland#d5:1',\n",
       " 'policy#d4:1',\n",
       " 'political#d1:2;d3:1',\n",
       " 'populated#d6:1',\n",
       " 'population#d3:2;d6:1',\n",
       " 'populous#d1:1;d2:2;d5:1',\n",
       " 'possibility#d4:1',\n",
       " 'potential#d4:1',\n",
       " 'powers#d7:1',\n",
       " 'predecessor#d7:1',\n",
       " 'president#d7:2',\n",
       " 'presidential#d5:1',\n",
       " 'problematic#d4:1',\n",
       " 'problems#d7:1',\n",
       " 'product#d6:1',\n",
       " 'prominent#d7:1',\n",
       " 'province#d1:1',\n",
       " 'provinces#d1:1',\n",
       " 'pursuing#d4:1',\n",
       " 'putin#d7:1',\n",
       " 'quadrilateral#d4:2',\n",
       " 'raj#d3:1',\n",
       " 'range#d5:1',\n",
       " 'reality#d4:1',\n",
       " 'recent#d7:1',\n",
       " 'referred#d6:1',\n",
       " 'region#d4:3',\n",
       " 'regional#d4:1',\n",
       " 'regions#d1:2',\n",
       " 'relations#d3:2;d4:2;d7:6',\n",
       " 'relationship#d3:2;d4:7;d7:2',\n",
       " 'relationships#d4:3',\n",
       " 'relatively#d4:1',\n",
       " 'remained#d4:1',\n",
       " 'remains#d4:1',\n",
       " 'republic#d1:3;d2:1;d3:1;d5:1;d6:1',\n",
       " 'reset#d7:1',\n",
       " 'result#d4:1',\n",
       " 'resulted#d3:1',\n",
       " 'russia#d5:5;d7:6',\n",
       " 'russian#d5:1;d7:5',\n",
       " 'said#d7:3',\n",
       " 'sanctions#d7:3',\n",
       " 'scale#d6:1',\n",
       " 'sea#d2:1;d5:1',\n",
       " 'seat#d1:1',\n",
       " 'secession#d3:1',\n",
       " 'second#d2:1',\n",
       " 'secular#d3:1',\n",
       " 'sees#d4:1',\n",
       " 'self#d1:1',\n",
       " 'semi#d5:1',\n",
       " 'separate#d1:1',\n",
       " 'separatists#d7:2',\n",
       " 'serious#d4:1',\n",
       " 'seventh#d2:1',\n",
       " 'several#d3:1;d7:1',\n",
       " 'shanghai#d1:1',\n",
       " 'share#d2:1;d3:1',\n",
       " 'shares#d2:1;d5:2',\n",
       " 'significant#d4:1',\n",
       " 'since#d3:1;d4:1',\n",
       " 'single#d1:1',\n",
       " 'sino#d4:3',\n",
       " 'skirmishes#d3:1',\n",
       " 'slowly#d7:1',\n",
       " 'so#d4:1',\n",
       " 'some#d4:1',\n",
       " 'sometimes#d6:1',\n",
       " 'soon#d3:1',\n",
       " 'sophisticated#d7:1',\n",
       " 'source#d4:1',\n",
       " 'south#d2:4;d3:1;d4:3',\n",
       " 'southeast#d4:1',\n",
       " 'sovereign#d1:1;d3:1',\n",
       " 'spans#d5:1',\n",
       " 'special#d1:1',\n",
       " 'spread#d7:1',\n",
       " 'sri#d2:1',\n",
       " 'stance#d4:1',\n",
       " 'standoffs#d3:1',\n",
       " 'state#d1:2;d5:1;d6:2',\n",
       " 'states#d4:2;d5:1;d6:7;d7:5',\n",
       " 'status#d1:1',\n",
       " 'sticking#d4:1',\n",
       " 'still#d4:1;d7:1',\n",
       " 'stockpiles#d7:1',\n",
       " 'strained#d3:1;d7:1',\n",
       " 'strait#d5:1',\n",
       " 'strategic#d4:3',\n",
       " 'subsequent#d3:1',\n",
       " 'such#d7:1',\n",
       " 'supplied#d7:1',\n",
       " 'support#d4:1;d7:1',\n",
       " 'supporting#d7:1',\n",
       " 'surface#d7:1',\n",
       " 'suspicion#d3:1;d4:1',\n",
       " 'taiwan#d1:2',\n",
       " 'tense#d7:1',\n",
       " 'tension#d4:1',\n",
       " 'territorial#d3:1',\n",
       " 'territories#d6:1',\n",
       " 'terrorism#d7:1',\n",
       " 'thailand#d2:1',\n",
       " 'than#d4:1;d5:1',\n",
       " 'that#d4:2;d7:1',\n",
       " 'the#d1:7;d2:17;d3:18;d4:26;d5:9;d6:16;d7:15',\n",
       " 'their#d3:4;d7:1',\n",
       " 'these#d3:1;d4:2',\n",
       " 'third#d6:2',\n",
       " 'this#d4:3;d7:1',\n",
       " 'though#d3:1',\n",
       " 'thousand#d3:1',\n",
       " 'threats#d7:1',\n",
       " 'three#d3:1',\n",
       " 'tianjin#d1:1',\n",
       " 'time#d5:1',\n",
       " 'to#d1:1;d2:3;d3:1;d4:3;d6:2;d7:4',\n",
       " 'total#d6:1',\n",
       " 'traditional#d4:1',\n",
       " 'training#d7:1',\n",
       " 'turn#d4:1',\n",
       " 'two#d1:1;d3:4;d4:1;d7:5',\n",
       " 'ukraine#d5:1;d7:2',\n",
       " 'ukrainian#d7:1',\n",
       " 'undeclared#d3:1',\n",
       " 'understanding#d4:2',\n",
       " 'union#d3:1',\n",
       " 'united#d4:2;d5:1;d6:4;d7:4',\n",
       " 'unpopulated#d6:1',\n",
       " 'unrest#d7:1',\n",
       " 'us#d4:9',\n",
       " 'usa#d6:1;d7:2',\n",
       " 'variety#d6:1',\n",
       " 'varying#d3:1',\n",
       " 'vicinity#d2:1',\n",
       " 'viewed#d4:1',\n",
       " 'violent#d3:2',\n",
       " 'vladimir#d7:1',\n",
       " 'volatility#d4:1',\n",
       " 'wake#d4:1',\n",
       " 'war#d3:3;d4:1',\n",
       " 'wars#d3:1',\n",
       " 'was#d3:1;d7:2',\n",
       " 'washington#d6:1',\n",
       " 'weapons#d7:2',\n",
       " 'web#d4:1',\n",
       " 'were#d3:1;d7:2',\n",
       " 'west#d2:2',\n",
       " 'when#d7:1',\n",
       " 'which#d1:2;d3:1;d4:3',\n",
       " 'while#d3:1;d4:1',\n",
       " 'who#d7:1',\n",
       " 'wide#d5:1;d6:1',\n",
       " 'wider#d4:1',\n",
       " 'wildlife#d6:1',\n",
       " 'with#d1:1;d2:2;d3:4;d4:7;d5:2;d7:1',\n",
       " 'world#d1:1;d2:1;d5:2;d7:1',\n",
       " 'would#d3:1',\n",
       " 'years#d7:1',\n",
       " 'zones#d5:1']"
      ]
     },
     "execution_count": 33,
     "metadata": {},
     "output_type": "execute_result"
    }
   ],
   "source": [
    "inverted_index_final.collect()"
   ]
  },
  {
   "cell_type": "code",
   "execution_count": null,
   "metadata": {},
   "outputs": [],
   "source": []
  }
 ],
 "metadata": {
  "kernelspec": {
   "display_name": "Python 3 (ipykernel)",
   "language": "python",
   "name": "python3"
  },
  "language_info": {
   "codemirror_mode": {
    "name": "ipython",
    "version": 3
   },
   "file_extension": ".py",
   "mimetype": "text/x-python",
   "name": "python",
   "nbconvert_exporter": "python",
   "pygments_lexer": "ipython3",
   "version": "3.7.15"
  }
 },
 "nbformat": 4,
 "nbformat_minor": 4
}
